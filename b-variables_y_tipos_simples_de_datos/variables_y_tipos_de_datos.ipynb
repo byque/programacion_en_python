{
 "cells": [
  {
   "cell_type": "markdown",
   "metadata": {},
   "source": [
    "# Variables y Tipos Simples de Datos\n",
    "\n",
    "## Comentarios\n",
    "Los comentarios empiezan con un '#' y sirven para añadir notas al programa para describir la solución implementada en el código.\n",
    "\n",
    "Todo lo que está después de un '#' es ignorado por el intérprete de Python."
   ]
  },
  {
   "cell_type": "code",
   "execution_count": 1,
   "metadata": {},
   "outputs": [
    {
     "name": "stdout",
     "output_type": "stream",
     "text": [
      "¡Hola!\n"
     ]
    }
   ],
   "source": [
    "# La siguiente línea imprime ¡Hola! como salida en el monitor\n",
    "print(\"¡Hola!\")"
   ]
  },
  {
   "cell_type": "markdown",
   "metadata": {},
   "source": [
    "## Variables"
   ]
  },
  {
   "cell_type": "code",
   "execution_count": 2,
   "metadata": {},
   "outputs": [
    {
     "name": "stdout",
     "output_type": "stream",
     "text": [
      "¡Hola mundo Python!\n"
     ]
    }
   ],
   "source": [
    "mensaje = \"¡Hola mundo Python!\"\n",
    "print(mensaje)"
   ]
  },
  {
   "cell_type": "code",
   "execution_count": 3,
   "metadata": {},
   "outputs": [
    {
     "name": "stdout",
     "output_type": "stream",
     "text": [
      "¡Hola mundo!\n",
      "¡Hola mundo del curso de Python!\n"
     ]
    }
   ],
   "source": [
    "mensaje = \"¡Hola mundo!\"\n",
    "print(mensaje)\n",
    "\n",
    "mensaje = \"¡Hola mundo del curso de Python!\"\n",
    "print(mensaje)"
   ]
  },
  {
   "cell_type": "markdown",
   "metadata": {
    "collapsed": true
   },
   "source": [
    "## Cadenas de Caracteres"
   ]
  },
  {
   "cell_type": "code",
   "execution_count": 1,
   "metadata": {},
   "outputs": [
    {
     "name": "stdout",
     "output_type": "stream",
     "text": [
      "Esto es un string\n",
      "Esto también es un string\n",
      "Esto es un string con \"comillas\"\n",
      "Esto es un string con 'apóstrofes'\n"
     ]
    }
   ],
   "source": [
    "# Las variables de tipo string son cadenas de caracteres.\n",
    "mensaje1 = \"Esto es un string\"\n",
    "mensaje2 = 'Esto también es un string'\n",
    "\n",
    "# Se puede usar comillas o apóstrofes para definir strings\n",
    "# Su uso depende del programador y también si se va a usar\n",
    "# comillas o apóstrofes dentro del mensaje.\n",
    "mensaje3 = 'Esto es un string con \"comillas\"'\n",
    "mensaje4 = \"Esto es un string con 'apóstrofes'\"\n",
    "\n",
    "print(mensaje1)\n",
    "print(mensaje2)\n",
    "print(mensaje3)\n",
    "print(mensaje4)"
   ]
  },
  {
   "cell_type": "code",
   "execution_count": 34,
   "metadata": {},
   "outputs": [
    {
     "name": "stdout",
     "output_type": "stream",
     "text": [
      "hola\n",
      "4\n",
      "hola mundo\n",
      "\n",
      "valor = 57\n",
      "Longitud de la cadena de caracteres = 4\n"
     ]
    }
   ],
   "source": [
    "# Basado en https://developers.google.com/edu/python/strings\n",
    "cadena = 'hola'\n",
    "numero = 57\n",
    "\n",
    "print cadena\n",
    "print len(cadena)\n",
    "print(cadena + ' ' + 'mundo')\n",
    "\n",
    "print('\\nvalor = ' + str(numero))\n",
    "print('Longitud de la cadena de caracteres = ' + str(len(cadena)))"
   ]
  },
  {
   "cell_type": "code",
   "execution_count": 3,
   "metadata": {},
   "outputs": [
    {
     "name": "stdout",
     "output_type": "stream",
     "text": [
      "Julio Casas\n",
      "julio casas\n",
      "JULIO CASAS\n"
     ]
    }
   ],
   "source": [
    "# Primer uso de métodos ver 'nombre.title()'\n",
    "nombre = \"julio cAsas\"\n",
    "\n",
    "# Imprime la primera letra de cada palabra en mayúsculas.\n",
    "print(nombre.title())\n",
    "\n",
    "# Imprime todo en minúsculas.\n",
    "print(nombre.lower())\n",
    "\n",
    "# Imprime todo en mayúsculas.\n",
    "print(nombre.upper())"
   ]
  },
  {
   "cell_type": "code",
   "execution_count": 4,
   "metadata": {},
   "outputs": [
    {
     "name": "stdout",
     "output_type": "stream",
     "text": [
      "Pedro Restrepo\n",
      "Hola Pedro Restrepo\n",
      "Hola Pedro Restrepo, es un placer.\n"
     ]
    }
   ],
   "source": [
    "nombre = \"pedro\"\n",
    "apellido = \"restrepo\"\n",
    "\n",
    "# Concatenar cadenas\n",
    "nombre_completo = nombre + \" \" + apellido\n",
    "\n",
    "print(nombre_completo.title())\n",
    "\n",
    "# Concatenar al imprimir\n",
    "print(\"Hola \" + nombre_completo.title())\n",
    "\n",
    "# Guardar como variable antes de imprimir\n",
    "mensaje = \"Hola \" + nombre_completo.title() + \", es un placer.\"\n",
    "print(mensaje)"
   ]
  },
  {
   "cell_type": "code",
   "execution_count": 7,
   "metadata": {},
   "outputs": [
    {
     "name": "stdout",
     "output_type": "stream",
     "text": [
      "\tEspacio de tabulador\n",
      "Esta es una\n",
      "Línea nueva\n",
      "Línea nueva + tabulador:\n",
      "\tSe ve así.\n"
     ]
    }
   ],
   "source": [
    "# Añadir un espacio de tabulador al texto\n",
    "print(\"\\tEspacio de tabulador\")\n",
    "\n",
    "# Añadir una línea nueva\n",
    "print(\"Esta es una\\nLínea nueva\")\n",
    "\n",
    "# Añadir un tabulador y una línea nueva\n",
    "print(\"Línea nueva + tabulador:\\n\\tSe ve así.\")"
   ]
  },
  {
   "cell_type": "code",
   "execution_count": 6,
   "metadata": {},
   "outputs": [
    {
     "name": "stdout",
     "output_type": "stream",
     "text": [
      "python <-Aquí está el espacio\n",
      "python<-Espacio removido temporalmente\n",
      "python <-Aquí está de nuevo el espacio\n",
      "python<-Espacio removido permanentemente\n",
      "Espacio al inicio y al final:-> python <-\n",
      "Quitar espacio del incio:->python <-\n",
      "Quitar ambos espacios:->python<-\n"
     ]
    }
   ],
   "source": [
    "# Espacio al final de la cadena\n",
    "lenguaje = 'python '\n",
    "print(lenguaje + \"<-Aquí está el espacio\")\n",
    "\n",
    "# Quitar temporalmente el espacio al final\n",
    "print(lenguaje.rstrip() + \"<-Espacio removido temporalmente\")\n",
    "\n",
    "# La variable original no ha cambiado\n",
    "print(lenguaje + \"<-Aquí está de nuevo el espacio\")\n",
    "\n",
    "# Quitar permanentemente el espacio al final\n",
    "lenguaje = lenguaje.rstrip()\n",
    "print(lenguaje + \"<-Espacio removido permanentemente\")\n",
    "\n",
    "# Espacio al inicio y al final de la cadena\n",
    "lenguaje = ' python '\n",
    "print(\"Espacio al inicio y al final:->\" + lenguaje + \"<-\")\n",
    "\n",
    "# Quitar temporalmente el espacio del principio\n",
    "print(\"Quitar espacio del incio:->\" + lenguaje.lstrip() + \"<-\")\n",
    "\n",
    "# Quitar temporalmente ambos espacios\n",
    "print(\"Quitar ambos espacios:->\" + lenguaje.strip() + \"<-\")"
   ]
  },
  {
   "cell_type": "markdown",
   "metadata": {},
   "source": [
    "### Subcadenas de Caracteres"
   ]
  },
  {
   "cell_type": "code",
   "execution_count": 31,
   "metadata": {},
   "outputs": [
    {
     "name": "stdout",
     "output_type": "stream",
     "text": [
      "o\n",
      "ol\n",
      "ola\n",
      "hol\n"
     ]
    }
   ],
   "source": [
    "# Basado en https://developers.google.com/edu/python/strings\n",
    "cadena = 'hola'\n",
    "\n",
    "print cadena[1]\n",
    "print cadena[1:3]\n",
    "print cadena[1:]\n",
    "print cadena[:3]"
   ]
  },
  {
   "cell_type": "markdown",
   "metadata": {},
   "source": [
    "### Método para Buscar en Cadena de Caracteres"
   ]
  },
  {
   "cell_type": "code",
   "execution_count": 14,
   "metadata": {},
   "outputs": [
    {
     "name": "stdout",
     "output_type": "stream",
     "text": [
      "4\n",
      "valor = 30\n"
     ]
    }
   ],
   "source": [
    "comando = 'tiempo=30'\n",
    "respuesta = 'OK,tiempo=30'\n",
    "\n",
    "print respuesta.find(comando)\n",
    "print('valor ' + comando[comando.find(\"=\"):])"
   ]
  },
  {
   "cell_type": "code",
   "execution_count": 36,
   "metadata": {},
   "outputs": [
    {
     "name": "stdout",
     "output_type": "stream",
     "text": [
      "30\n"
     ]
    }
   ],
   "source": [
    "# Crear una variable numérica a partir de un cadena de caracteres\n",
    "tiempo = int(comando[comando.find(\"=\")+1:])\n",
    "print tiempo"
   ]
  }
 ],
 "metadata": {
  "kernelspec": {
   "display_name": "Python 2",
   "language": "python",
   "name": "python2"
  },
  "language_info": {
   "codemirror_mode": {
    "name": "ipython",
    "version": 2
   },
   "file_extension": ".py",
   "mimetype": "text/x-python",
   "name": "python",
   "nbconvert_exporter": "python",
   "pygments_lexer": "ipython2",
   "version": "2.7.14"
  }
 },
 "nbformat": 4,
 "nbformat_minor": 2
}
