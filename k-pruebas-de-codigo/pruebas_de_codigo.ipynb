{
 "cells": [
  {
   "cell_type": "markdown",
   "metadata": {},
   "source": [
    "# Probando el código\n",
    "## Probando una Función\n",
    "Código a probar:"
   ]
  },
  {
   "cell_type": "code",
   "execution_count": 4,
   "metadata": {},
   "outputs": [],
   "source": [
    "\"\"\"funcion_nombre.py para realizar pruebas.\"\"\"\n",
    "\n",
    "\n",
    "def get_nombre_formateado(nombre, apellido):\n",
    "    \"\"\"Generar un nombre completo formateado apropiadamente.\"\"\"\n",
    "    nombre_completo = nombre + ' ' + apellido\n",
    "    return nombre_completo.title()"
   ]
  },
  {
   "cell_type": "markdown",
   "metadata": {},
   "source": [
    "### Prueba unitaria y Test Cases\n",
    "El módulo `unittest` de la librería estándar de Python provee de herramientas para probar código. Una prueba unitaria (*unit test*) verifica que un aspecto específico del funcionamiento de una función es correcto. Un caso de prueba (*test case*) es una colección de pruebas unitarias que juntas prueban que una función se comporta de la manera que se espera, dentro de todo el rango de situaciones al que se la someta.\n",
    "\n",
    "### Una Prueba que Pasa\n",
    "No se puede ejecutar `main()` dentro de Jupyter Notebook debido al funcionamiento de `unittest`. Para ejecutar este programa se debe usar la consola y crear los dos programas necesarios para la prueba."
   ]
  },
  {
   "cell_type": "code",
   "execution_count": 5,
   "metadata": {},
   "outputs": [],
   "source": [
    "\"\"\"test_funcion_nombre.py para realizar pruebas.\"\"\"\n",
    "\n",
    "import unittest\n",
    "from funcion_nombre import get_nombre_formateado\n",
    "\n",
    "\n",
    "class NombresCasoPrueba(unittest.TestCase):\n",
    "    \"\"\"Pruebas para la nombre formateado.\"\"\"\n",
    "\n",
    "    def test_nombre_apellido(self):\n",
    "        \"\"\"Probar si nombres como 'Enrique Bunbury' funcionan.\"\"\"\n",
    "        nombre_formateado = get_nombre_formateado('enrique', 'bunbury')\n",
    "        self.assertEqual(nombre_formateado, 'Enrique Bunbury')\n",
    "\n",
    "\n",
    "# unittest.main()"
   ]
  }
 ],
 "metadata": {
  "kernelspec": {
   "display_name": "Python 2",
   "language": "python",
   "name": "python2"
  },
  "language_info": {
   "codemirror_mode": {
    "name": "ipython",
    "version": 2
   },
   "file_extension": ".py",
   "mimetype": "text/x-python",
   "name": "python",
   "nbconvert_exporter": "python",
   "pygments_lexer": "ipython2",
   "version": "2.7.14"
  }
 },
 "nbformat": 4,
 "nbformat_minor": 2
}
