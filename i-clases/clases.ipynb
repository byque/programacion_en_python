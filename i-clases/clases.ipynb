{
 "cells": [
  {
   "cell_type": "markdown",
   "metadata": {},
   "source": [
    "# Clases\n",
    "\n",
    "## Creando y Usando una Clase\n",
    "\n",
    "### Creando la Clase Perro"
   ]
  },
  {
   "cell_type": "code",
   "execution_count": 1,
   "metadata": {},
   "outputs": [],
   "source": [
    "class Perro(object):\n",
    "    \"\"\"Un simple intento de modelar un perro.\"\"\"\n",
    "    \n",
    "    def __init__(self, nombre, edad):\n",
    "        \"\"\"Inicializar los atributos de nombre y edad.\"\"\"\n",
    "        self.nombre = nombre\n",
    "        self.edad = edad\n",
    "        \n",
    "    def sentarse(self):\n",
    "        \"\"\"Simular un perro sentandose en respuesta a un comando.\"\"\"\n",
    "        print(self.nombre.title() + \" está ahora sentado.\")\n",
    "        \n",
    "    def rodar(self):\n",
    "        \"\"\"Simular un perro rodando en respuesta a un comando.\"\"\"\n",
    "        print(self.nombre.title() + \" rodó!\")"
   ]
  },
  {
   "cell_type": "markdown",
   "metadata": {},
   "source": [
    "### Creando una Instancia de una Clase"
   ]
  },
  {
   "cell_type": "code",
   "execution_count": 3,
   "metadata": {},
   "outputs": [
    {
     "name": "stdout",
     "output_type": "stream",
     "text": [
      "El nombre de mi perro es Cometa.\n",
      "Mi perro tiene 6 años de edad.\n"
     ]
    }
   ],
   "source": [
    "mi_perro = Perro('cometa', 6)\n",
    "\n",
    "print(\"El nombre de mi perro es \" + mi_perro.nombre.title() + \".\")\n",
    "print(\"Mi perro tiene \" + str(mi_perro.edad) + \" años de edad.\")"
   ]
  },
  {
   "cell_type": "markdown",
   "metadata": {},
   "source": [
    "#### Llamando Métodos"
   ]
  },
  {
   "cell_type": "code",
   "execution_count": 4,
   "metadata": {},
   "outputs": [
    {
     "name": "stdout",
     "output_type": "stream",
     "text": [
      "Cometa está ahora sentado.\n",
      "Cometa rodó!\n"
     ]
    }
   ],
   "source": [
    "mi_perro.sentarse()\n",
    "mi_perro.rodar()"
   ]
  },
  {
   "cell_type": "markdown",
   "metadata": {},
   "source": [
    "#### Creando Múltiples Instancias"
   ]
  },
  {
   "cell_type": "code",
   "execution_count": 8,
   "metadata": {},
   "outputs": [
    {
     "name": "stdout",
     "output_type": "stream",
     "text": [
      "El primer perro se llama Copito.\n",
      "El perro tiene 7 años de edad.\n",
      "Copito está ahora sentado.\n",
      "\n",
      "La segunda perra se llama Perla.\n",
      "La perra tiene 3 años de edad.\n",
      "Perla rodó!\n"
     ]
    }
   ],
   "source": [
    "perro_1 = Perro('copito', 7)\n",
    "perro_2 = Perro('perla', 3)\n",
    "\n",
    "print(\"El primer perro se llama \" + perro_1.nombre.title() + \".\")\n",
    "print(\"El perro tiene \" + str(perro_1.edad) + \" años de edad.\")\n",
    "perro_1.sentarse()\n",
    "\n",
    "print(\"\")\n",
    "\n",
    "print(\"La segunda perra se llama \" + perro_2.nombre.title() + \".\")\n",
    "print(\"La perra tiene \" + str(perro_2.edad) + \" años de edad.\")\n",
    "perro_2.rodar()"
   ]
  },
  {
   "cell_type": "markdown",
   "metadata": {},
   "source": [
    "## Trabajando con Clases e Instancias\n",
    "\n",
    "### La Clase Carro"
   ]
  },
  {
   "cell_type": "code",
   "execution_count": 9,
   "metadata": {},
   "outputs": [
    {
     "name": "stdout",
     "output_type": "stream",
     "text": [
      "2005 Chevrolet Corsa\n"
     ]
    }
   ],
   "source": [
    "class Carro(object):\n",
    "    \"\"\"Un simple intento de modelar un carro.\"\"\"\n",
    "    \n",
    "    def __init__(self, marca, modelo, anio):\n",
    "        \"\"\"Inicializar los atributos para describir un carro.\"\"\"\n",
    "        self.marca = marca\n",
    "        self.modelo = modelo\n",
    "        self.anio = anio\n",
    "        \n",
    "    def get_nombre_descriptivo(self):\n",
    "        \"\"\"Devolver un nombre descriptivo formateado cuidadosamente.\"\"\"\n",
    "        nombre_largo = str(self.anio) + ' ' + self.marca + ' ' + self.modelo\n",
    "        return nombre_largo.title()\n",
    "\n",
    "mi_carro = Carro('chevrolet', 'corsa', '2005')\n",
    "print(mi_carro.get_nombre_descriptivo())"
   ]
  },
  {
   "cell_type": "markdown",
   "metadata": {},
   "source": [
    "### Configurando un Valor por Defecto para un Atributo"
   ]
  },
  {
   "cell_type": "code",
   "execution_count": 1,
   "metadata": {},
   "outputs": [
    {
     "name": "stdout",
     "output_type": "stream",
     "text": [
      "2005 Chevrolet Corsa\n",
      "Este carro ha recorrido 0 kilómetros.\n"
     ]
    }
   ],
   "source": [
    "class Carro(object):\n",
    "    \"\"\"Un simple intento de modelar un carro.\"\"\"\n",
    "    \n",
    "    def __init__(self, marca, modelo, anio):\n",
    "        \"\"\"Inicializar los atributos para describir un carro.\"\"\"\n",
    "        self.marca = marca\n",
    "        self.modelo = modelo\n",
    "        self.anio = anio\n",
    "        self.lectura_odometro = 0\n",
    "        \n",
    "    def get_nombre_descriptivo(self):\n",
    "        \"\"\"Devolver un nombre descriptivo formateado cuidadosamente.\"\"\"\n",
    "        nombre_largo = str(self.anio) + ' ' + self.marca + ' ' + self.modelo\n",
    "        return nombre_largo.title()\n",
    "    \n",
    "    def leer_odometro(self):\n",
    "        \"\"\"Imprimir el kilometraje del carro.\"\"\"\n",
    "        print(\"Este carro ha recorrido \" + str(self.lectura_odometro) + \" kilómetros.\")\n",
    "\n",
    "mi_carro = Carro('chevrolet', 'corsa', '2005')\n",
    "print(mi_carro.get_nombre_descriptivo())\n",
    "mi_carro.leer_odometro()"
   ]
  },
  {
   "cell_type": "markdown",
   "metadata": {},
   "source": [
    "### Modificando Valores de Atributos\n",
    "\n",
    "#### Modificando un Valor de un Atributo Directamente"
   ]
  },
  {
   "cell_type": "code",
   "execution_count": 2,
   "metadata": {},
   "outputs": [
    {
     "name": "stdout",
     "output_type": "stream",
     "text": [
      "Este carro ha recorrido 23 kilómetros.\n"
     ]
    }
   ],
   "source": [
    "mi_carro.lectura_odometro = 23\n",
    "mi_carro.leer_odometro()"
   ]
  },
  {
   "cell_type": "markdown",
   "metadata": {},
   "source": [
    "#### Modificando un Valor de un Atributo con un Método"
   ]
  },
  {
   "cell_type": "code",
   "execution_count": 4,
   "metadata": {},
   "outputs": [
    {
     "name": "stdout",
     "output_type": "stream",
     "text": [
      "2005 Chevrolet Corsa\n",
      "Este carro ha recorrido 23 kilómetros.\n"
     ]
    }
   ],
   "source": [
    "class Carro(object):\n",
    "    \"\"\"Un simple intento de modelar un carro.\"\"\"\n",
    "    \n",
    "    def __init__(self, marca, modelo, anio):\n",
    "        \"\"\"Inicializar los atributos para describir un carro.\"\"\"\n",
    "        self.marca = marca\n",
    "        self.modelo = modelo\n",
    "        self.anio = anio\n",
    "        self.lectura_odometro = 0\n",
    "        \n",
    "    def get_nombre_descriptivo(self):\n",
    "        \"\"\"Devolver un nombre descriptivo formateado cuidadosamente.\"\"\"\n",
    "        nombre_largo = str(self.anio) + ' ' + self.marca + ' ' + self.modelo\n",
    "        return nombre_largo.title()\n",
    "    \n",
    "    def leer_odometro(self):\n",
    "        \"\"\"Imprimir el kilometraje del carro.\"\"\"\n",
    "        print(\"Este carro ha recorrido \" + str(self.lectura_odometro) + \" kilómetros.\")\n",
    "        \n",
    "    def actualizar_odometro(self, kilometraje):\n",
    "        \"\"\"\n",
    "        Configurar la lectura del odómetro a un valor dado.\n",
    "        Rechazar el cambio si intenta retroceder el odómetro.\n",
    "        \"\"\"\n",
    "        if kilometraje >= self.lectura_odometro:\n",
    "            self.lectura_odometro = kilometraje\n",
    "        else:\n",
    "            print(\"¡No se puede retroceder el odómetro!\")\n",
    "\n",
    "mi_carro = Carro('chevrolet', 'corsa', '2005')\n",
    "print(mi_carro.get_nombre_descriptivo())\n",
    "\n",
    "mi_carro.actualizar_odometro(23)\n",
    "mi_carro.leer_odometro()"
   ]
  },
  {
   "cell_type": "markdown",
   "metadata": {},
   "source": [
    "#### Incrementando un Valor de un Atributo a través de un Método"
   ]
  },
  {
   "cell_type": "code",
   "execution_count": 1,
   "metadata": {},
   "outputs": [
    {
     "name": "stdout",
     "output_type": "stream",
     "text": [
      "2005 Chevrolet Corsa\n",
      "Este carro ha recorrido 23500 kilómetros.\n",
      "Este carro ha recorrido 23600 kilómetros.\n"
     ]
    }
   ],
   "source": [
    "class Carro(object):\n",
    "    \"\"\"Un simple intento de modelar un carro.\"\"\"\n",
    "    \n",
    "    def __init__(self, marca, modelo, anio):\n",
    "        \"\"\"Inicializar los atributos para describir un carro.\"\"\"\n",
    "        self.marca = marca\n",
    "        self.modelo = modelo\n",
    "        self.anio = anio\n",
    "        self.lectura_odometro = 0\n",
    "        \n",
    "    def get_nombre_descriptivo(self):\n",
    "        \"\"\"Devolver un nombre descriptivo formateado cuidadosamente.\"\"\"\n",
    "        nombre_largo = str(self.anio) + ' ' + self.marca + ' ' + self.modelo\n",
    "        return nombre_largo.title()\n",
    "    \n",
    "    def leer_odometro(self):\n",
    "        \"\"\"Imprimir el kilometraje del carro.\"\"\"\n",
    "        print(\"Este carro ha recorrido \" + str(self.lectura_odometro) + \" kilómetros.\")\n",
    "        \n",
    "    def actualizar_odometro(self, kilometraje):\n",
    "        \"\"\"\n",
    "        Configurar la lectura del odómetro a un valor dado.\n",
    "        Rechazar el cambio si intenta retroceder el odómetro.\n",
    "        \"\"\"\n",
    "        if kilometraje >= self.lectura_odometro:\n",
    "            self.lectura_odometro = kilometraje\n",
    "        else:\n",
    "            print(\"¡No se puede retroceder el odómetro!\")\n",
    "    \n",
    "    def incrementar_odometro(self, kilometros):\n",
    "        \"\"\"Aumentar la cantidad dada a la lectura del odómetro.\"\"\"\n",
    "        self.lectura_odometro += kilometros\n",
    "\n",
    "mi_carro = Carro('chevrolet', 'corsa', '2005')\n",
    "print(mi_carro.get_nombre_descriptivo())\n",
    "\n",
    "mi_carro.actualizar_odometro(23500)\n",
    "mi_carro.leer_odometro()\n",
    "\n",
    "mi_carro.incrementar_odometro(100)\n",
    "mi_carro.leer_odometro()"
   ]
  },
  {
   "cell_type": "markdown",
   "metadata": {},
   "source": [
    "## Herencia\n",
    "\n",
    "### El Método __init__() para una Clase Hijo"
   ]
  },
  {
   "cell_type": "code",
   "execution_count": 3,
   "metadata": {},
   "outputs": [
    {
     "name": "stdout",
     "output_type": "stream",
     "text": [
      "2016 Tesla Modelo S\n"
     ]
    }
   ],
   "source": [
    "class CarroElectrico(Carro):\n",
    "    \"\"\"Representa aspectos de un carro específicos a vehículos eléctricos.\"\"\"\n",
    "    \n",
    "    def __init__(self, marca, modelo, anio):\n",
    "        \"\"\"Inicializar los atributos de la clase padre.\"\"\"\n",
    "        super(CarroElectrico, self).__init__(marca, modelo, anio)\n",
    "        \n",
    "mi_tesla = CarroElectrico('tesla', 'modelo s', 2016)\n",
    "print(mi_tesla.get_nombre_descriptivo())"
   ]
  },
  {
   "cell_type": "markdown",
   "metadata": {},
   "source": [
    "#### Valores por defecto en __init__()"
   ]
  },
  {
   "cell_type": "code",
   "execution_count": 17,
   "metadata": {},
   "outputs": [
    {
     "name": "stdout",
     "output_type": "stream",
     "text": [
      "0 None C\n",
      "1 A C\n"
     ]
    }
   ],
   "source": [
    "class SuperClase(object):\n",
    "    \"\"\"Ejemplo de superclase con atributos por defecto.\"\"\"\n",
    "    \n",
    "    def __init__(self, atributo1=0, atributo2=None):\n",
    "        \"\"\"Inicializar los atributos.\"\"\"\n",
    "        self.atributo1 = atributo1\n",
    "        self.atributo2 = atributo2\n",
    "        self.atributo3 = 'c'\n",
    "    \n",
    "    def get_nombre_descriptivo(self):\n",
    "        \"\"\"Devolver un nombre descriptivo formateado cuidadosamente.\"\"\"\n",
    "        nombre_largo = str(self.atributo1) + ' ' + str(self.atributo2) + ' ' + self.atributo3\n",
    "        return nombre_largo.title()\n",
    "\n",
    "super_objeto = SuperClase()\n",
    "print(super_objeto.get_nombre_descriptivo())\n",
    "\n",
    "super_objeto1 = SuperClase(1,'a')\n",
    "print(super_objeto1.get_nombre_descriptivo())"
   ]
  },
  {
   "cell_type": "code",
   "execution_count": 23,
   "metadata": {},
   "outputs": [
    {
     "name": "stdout",
     "output_type": "stream",
     "text": [
      "1 A C\n",
      "2 B C\n"
     ]
    }
   ],
   "source": [
    "class SubClase(SuperClase):\n",
    "    \"\"\"Ejemplo de inicialización de una subclase.\"\"\"\n",
    "    \n",
    "    def __init__(self, atributo1=1, atributo2='a'):\n",
    "        \"\"\"Inicializar los atributos de la clase padre.\"\"\"\n",
    "        super(SubClase, self).__init__(atributo1, atributo2)\n",
    "\n",
    "sub_objeto = SubClase()\n",
    "print(sub_objeto.get_nombre_descriptivo())\n",
    "\n",
    "sub_objeto2 = SubClase(2,'b')\n",
    "print(sub_objeto1.get_nombre_descriptivo())"
   ]
  }
 ],
 "metadata": {
  "kernelspec": {
   "display_name": "Python 2",
   "language": "python",
   "name": "python2"
  },
  "language_info": {
   "codemirror_mode": {
    "name": "ipython",
    "version": 2
   },
   "file_extension": ".py",
   "mimetype": "text/x-python",
   "name": "python",
   "nbconvert_exporter": "python",
   "pygments_lexer": "ipython2",
   "version": "2.7.14"
  }
 },
 "nbformat": 4,
 "nbformat_minor": 2
}
